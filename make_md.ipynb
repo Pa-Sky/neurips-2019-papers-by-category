{
 "cells": [
  {
   "cell_type": "code",
   "execution_count": 2,
   "metadata": {},
   "outputs": [],
   "source": [
    "import requests \n",
    "URL = 'https://nips.cc/Conferences/2019/Schedule' \n",
    "response = requests.get(URL) \n",
    "response.status_code \n",
    "source = response.text"
   ]
  },
  {
   "cell_type": "code",
   "execution_count": 3,
   "metadata": {},
   "outputs": [],
   "source": [
    "from bs4 import BeautifulSoup"
   ]
  },
  {
   "cell_type": "code",
   "execution_count": 4,
   "metadata": {},
   "outputs": [],
   "source": [
    "bs = BeautifulSoup(source, 'html.parser')"
   ]
  },
  {
   "cell_type": "code",
   "execution_count": 5,
   "metadata": {},
   "outputs": [],
   "source": [
    "right_tags = bs.findAll('div', attrs={'class':'pull-right maincardHeader maincardType'})"
   ]
  },
  {
   "cell_type": "code",
   "execution_count": 6,
   "metadata": {},
   "outputs": [],
   "source": [
    "tus = list()\n",
    "for rt in right_tags:\n",
    "    if rt.find('a') is not None:\n",
    "        link_tag = rt.find('a')\n",
    "        title = link_tag.contents\n",
    "        url = list(link_tag.attrs.values())[0]\n",
    "        tus += [(title[0].lstrip(), url)]"
   ]
  },
  {
   "cell_type": "code",
   "execution_count": 19,
   "metadata": {},
   "outputs": [],
   "source": [
    "from collections import Counter\n",
    "cnter = Counter(tus)\n",
    "prev_cats = ['','']\n",
    "md = ''\n",
    "for tu in sorted(cnter.keys()):\n",
    "    cnt = cnter[tu]\n",
    "    cats = tu[0].split(' -- ')\n",
    "    if len(cats) == 2:\n",
    "        if cats[0] != prev_cats[0] : md += '\\n### ' + cats[0]\n",
    "        if cats[1] != prev_cats[1] : md += '\\n* ' + cats[1] + ':'\n",
    "        md += ' [%d papers](http://neurips.cc' % cnt + tu[1] + ')'\n",
    "    elif len(cats) == 1:\n",
    "        if cats[0] != prev_cats[0] : md += '\\n* ' + cats[0]\n",
    "        md += ' [%d papers](http://neurips.cc' % cnt + tu[1] + ')'\n",
    "        cats += [cats[0]]\n",
    "    prev_cats = cats\n",
    "    "
   ]
  },
  {
   "cell_type": "code",
   "execution_count": 20,
   "metadata": {},
   "outputs": [],
   "source": [
    "with open('README.md', 'w') as f:\n",
    "    f.write(md)"
   ]
  },
  {
   "cell_type": "code",
   "execution_count": null,
   "metadata": {},
   "outputs": [],
   "source": []
  }
 ],
 "metadata": {
  "kernelspec": {
   "display_name": "Python 3",
   "language": "python",
   "name": "python3"
  },
  "language_info": {
   "codemirror_mode": {
    "name": "ipython",
    "version": 3
   },
   "file_extension": ".py",
   "mimetype": "text/x-python",
   "name": "python",
   "nbconvert_exporter": "python",
   "pygments_lexer": "ipython3",
   "version": "3.5.2"
  }
 },
 "nbformat": 4,
 "nbformat_minor": 2
}
